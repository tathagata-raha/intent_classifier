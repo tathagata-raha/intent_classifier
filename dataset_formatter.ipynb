{
 "cells": [
  {
   "cell_type": "code",
   "execution_count": 1,
   "id": "electoral-bunny",
   "metadata": {},
   "outputs": [],
   "source": [
    "import json\n",
    "import os\n",
    "split = 'test'\n",
    "dirname = 'multiwoz/data/MultiWOZ_2.2/' + split\n",
    "from collections import defaultdict\n",
    "intent_dict = defaultdict(list)"
   ]
  },
  {
   "cell_type": "code",
   "execution_count": 2,
   "id": "thick-nutrition",
   "metadata": {},
   "outputs": [
    {
     "name": "stdout",
     "output_type": "stream",
     "text": [
      "dialogues_001.json\n",
      "dialogues_002.json\n"
     ]
    }
   ],
   "source": [
    "for fname in os.listdir(dirname):\n",
    "    print(fname)\n",
    "    ffname = dirname + '/' + fname\n",
    "    with open(ffname, \"r\") as f:\n",
    "        data = json.load(f)\n",
    "    for i in data:\n",
    "        turn = i['turns']\n",
    "        for j in turn:\n",
    "            utterance = j['utterance']\n",
    "            intents = []\n",
    "            for k in j['frames']:\n",
    "                if 'state' in k and k['state']['active_intent'] != 'NONE':\n",
    "                    intent_dict[k['state']['active_intent']].append(utterance)\n"
   ]
  },
  {
   "cell_type": "code",
   "execution_count": 3,
   "id": "hired-listening",
   "metadata": {},
   "outputs": [
    {
     "name": "stdout",
     "output_type": "stream",
     "text": [
      "find_train 1562\n",
      "find_attraction 1232\n",
      "find_restaurant 1183\n",
      "book_restaurant 580\n",
      "find_taxi 495\n",
      "find_hotel 1235\n",
      "book_hotel 483\n",
      "book_train 431\n",
      "find_police 5\n",
      "find_hospital 12\n"
     ]
    }
   ],
   "source": [
    "for i in intent_dict.keys():\n",
    "    print(i, len(intent_dict[i]))"
   ]
  },
  {
   "cell_type": "code",
   "execution_count": 4,
   "id": "affecting-skiing",
   "metadata": {},
   "outputs": [],
   "source": [
    "with open('processed_data/' + split + '_multiwoz.json', 'w+') as f:\n",
    "    json.dump(intent_dict, f)"
   ]
  }
 ],
 "metadata": {
  "kernelspec": {
   "display_name": "Python 3",
   "language": "python",
   "name": "python3"
  },
  "language_info": {
   "codemirror_mode": {
    "name": "ipython",
    "version": 3
   },
   "file_extension": ".py",
   "mimetype": "text/x-python",
   "name": "python",
   "nbconvert_exporter": "python",
   "pygments_lexer": "ipython3",
   "version": "3.9.2"
  }
 },
 "nbformat": 4,
 "nbformat_minor": 5
}
